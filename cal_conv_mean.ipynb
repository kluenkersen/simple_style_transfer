{
 "cells": [
  {
   "cell_type": "code",
   "execution_count": 247,
   "metadata": {},
   "outputs": [],
   "source": [
    "import torch\n",
    "import numpy as np"
   ]
  },
  {
   "cell_type": "code",
   "execution_count": 259,
   "metadata": {},
   "outputs": [],
   "source": [
    "def calc_2_moments(tensor):\n",
    "    tensor.squeeze_()\n",
    "    c, h, w = tensor.shape\n",
    "    n = h * w    \n",
    "    flat_array = tensor.view(c, n)\n",
    "    \n",
    "    mu = flat_array.mean(dim=1).reshape(3, -1)\n",
    "    cov = torch.sub(flat_array, mu)\n",
    "    cov = torch.div(torch.matmul(cov, cov.t()), n)    \n",
    "    \n",
    "    return mu, cov"
   ]
  },
  {
   "cell_type": "code",
   "execution_count": 260,
   "metadata": {},
   "outputs": [
    {
     "data": {
      "text/plain": [
       "(tensor([[2.2500],\n",
       "         [1.7500],\n",
       "         [2.0000]]), tensor([[ 0.1875, -0.1875,  0.2500],\n",
       "         [-0.1875,  0.6875,  0.2500],\n",
       "         [ 0.2500,  0.2500,  1.0000]]))"
      ]
     },
     "execution_count": 260,
     "metadata": {},
     "output_type": "execute_result"
    }
   ],
   "source": [
    "tensor = torch.randint(low = 1, high = 4, size = [3,2,2])\n",
    "tensor = tensor.float()\n",
    "calc_2_moments(tensor)"
   ]
  },
  {
   "cell_type": "code",
   "execution_count": 252,
   "metadata": {},
   "outputs": [],
   "source": [
    "def calc_2_moments(tensor):\n",
    "    chans = tensor.shape[1]\n",
    "    tensor = tensor.view(1, chans, -1)\n",
    "    n = tensor.shape[2]\n",
    "    \n",
    "    mu = tensor.mean(2)\n",
    "    tensor = (tensor - mu[:,:,None]).squeeze(0)\n",
    "    cov = torch.mm(tensor, tensor.t()) / float(n)\n",
    "    \n",
    "    return mu, cov"
   ]
  },
  {
   "cell_type": "code",
   "execution_count": 261,
   "metadata": {},
   "outputs": [
    {
     "data": {
      "text/plain": [
       "(tensor([[2.2500],\n",
       "         [1.7500],\n",
       "         [2.0000]]), tensor([[ 0.1875, -0.1875,  0.2500],\n",
       "         [-0.1875,  0.6875,  0.2500],\n",
       "         [ 0.2500,  0.2500,  1.0000]]))"
      ]
     },
     "execution_count": 261,
     "metadata": {},
     "output_type": "execute_result"
    }
   ],
   "source": [
    "calc_2_moments(tensor.squeeze())"
   ]
  },
  {
   "cell_type": "code",
   "execution_count": 245,
   "metadata": {},
   "outputs": [
    {
     "data": {
      "text/plain": [
       "tensor([[[3., 3.],\n",
       "         [3., 1.]],\n",
       "\n",
       "        [[3., 1.],\n",
       "         [3., 3.]],\n",
       "\n",
       "        [[1., 3.],\n",
       "         [3., 3.]]])"
      ]
     },
     "execution_count": 245,
     "metadata": {},
     "output_type": "execute_result"
    }
   ],
   "source": [
    "tensor = torch.randint(low = 1, high = 4, size = [3,2,2])\n",
    "tensor = tensor.float()\n",
    "calf_2_moments(tensor)"
   ]
  },
  {
   "cell_type": "code",
   "execution_count": 246,
   "metadata": {},
   "outputs": [
    {
     "name": "stdout",
     "output_type": "stream",
     "text": [
      "tensor([[3., 3., 3., 1.],\n",
      "        [3., 1., 3., 3.],\n",
      "        [1., 3., 3., 3.]])\n",
      "tensor([[2.5000],\n",
      "        [2.5000],\n",
      "        [2.5000]])\n",
      "tensor([[ 3., -1., -1.],\n",
      "        [-1.,  3., -1.],\n",
      "        [-1., -1.,  3.]])\n",
      "tensor([[ 0.7500, -0.2500, -0.2500],\n",
      "        [-0.2500,  0.7500, -0.2500],\n",
      "        [-0.2500, -0.2500,  0.7500]])\n"
     ]
    }
   ],
   "source": [
    "calf_2_moments(tensor)\n"
   ]
  },
  {
   "cell_type": "code",
   "execution_count": 176,
   "metadata": {},
   "outputs": [
    {
     "data": {
      "text/plain": [
       "torch.Size([12, 24])"
      ]
     },
     "execution_count": 176,
     "metadata": {},
     "output_type": "execute_result"
    }
   ],
   "source": [
    "def calc_waterstein(content, style):\n",
    "    \n",
    "    mu_content, cov_content = content\n",
    "    mu_style, cov_style = style\n",
    "    \n",
    "    dis = torch.matmul(torch.sub(mu_content - mu_style), torch.sub(mu_content - mu_style))\n",
    "    cov"
   ]
  },
  {
   "cell_type": "code",
   "execution_count": 123,
   "metadata": {},
   "outputs": [
    {
     "name": "stdout",
     "output_type": "stream",
     "text": [
      "tensor\n",
      "tensor([[[1., 1.],\n",
      "         [3., 2.]],\n",
      "\n",
      "        [[3., 3.],\n",
      "         [2., 3.]],\n",
      "\n",
      "        [[2., 2.],\n",
      "         [2., 3.]],\n",
      "\n",
      "        [[3., 2.],\n",
      "         [1., 2.]]])\n",
      "mean\n",
      "tensor([[1.7500],\n",
      "        [2.7500],\n",
      "        [2.2500],\n",
      "        [2.0000]])\n",
      "sigma after sub\n",
      "tensor([[-0.7500, -0.7500,  1.2500,  0.2500],\n",
      "        [ 0.2500,  0.2500, -0.7500,  0.2500],\n",
      "        [-0.2500, -0.2500, -0.2500,  0.7500],\n",
      "        [ 1.0000,  0.0000, -1.0000,  0.0000]])\n",
      "sigma transposed\n",
      "tensor([[[-0.7500,  1.2500],\n",
      "         [-0.7500,  0.2500]],\n",
      "\n",
      "        [[ 0.2500, -0.7500],\n",
      "         [ 0.2500,  0.2500]],\n",
      "\n",
      "        [[-0.2500, -0.2500],\n",
      "         [-0.2500,  0.7500]],\n",
      "\n",
      "        [[ 1.0000, -1.0000],\n",
      "         [ 0.0000,  0.0000]]])\n",
      "after matrix multiplication\n",
      "tensor([[[ 1.1250, -1.1250],\n",
      "         [-1.1250,  1.6250]],\n",
      "\n",
      "        [[ 0.1250, -0.1250],\n",
      "         [-0.1250,  0.6250]],\n",
      "\n",
      "        [[ 0.1250, -0.1250],\n",
      "         [-0.1250,  0.6250]],\n",
      "\n",
      "        [[ 1.0000, -1.0000],\n",
      "         [-1.0000,  1.0000]]])\n",
      "tensor([[0.0000, 0.5000],\n",
      "        [0.0000, 0.5000],\n",
      "        [0.0000, 0.5000],\n",
      "        [0.0000, 0.0000]])\n"
     ]
    },
    {
     "data": {
      "text/plain": [
       "tensor([[0.0000, 0.5000],\n",
       "        [0.0000, 0.5000],\n",
       "        [0.0000, 0.5000],\n",
       "        [0.0000, 0.0000]])"
      ]
     },
     "execution_count": 123,
     "metadata": {},
     "output_type": "execute_result"
    }
   ],
   "source": [
    "# 1/n * summe(xi) for each layer\n",
    "# \n",
    "# mean = (tensor[0], tensor[1], tensor[2])\n",
    "mean = tensor.mean(dim=[1,-1])\n",
    "# 1/n-1 summe(|xi-mean|*|xi-mean|)\n",
    "n = (float(1)/float((224*224)-1))\n",
    "# Ex = torch.mul(n, (torch.sum(torch.sqrt(torch.mul(torch.sub(tensor, mean), torch.sub(tensor, mean))))))\n",
    "# Ex\n",
    "c = calc_sigma(tensor)\n",
    "# torch.mul(c, n)\n",
    "c"
   ]
  },
  {
   "cell_type": "code",
   "execution_count": null,
   "metadata": {},
   "outputs": [],
   "source": [
    "tensor.dtype"
   ]
  },
  {
   "cell_type": "code",
   "execution_count": null,
   "metadata": {},
   "outputs": [],
   "source": [
    "ts = torch.randn([2,2])\n",
    "print(ts)\n",
    "ts.res"
   ]
  },
  {
   "cell_type": "code",
   "execution_count": null,
   "metadata": {},
   "outputs": [],
   "source": [
    "\n",
    "tensor.permute(-3, 2, 1)\n",
    "\n",
    "tensor.shape"
   ]
  },
  {
   "cell_type": "code",
   "execution_count": null,
   "metadata": {},
   "outputs": [],
   "source": [
    "torch.sub(tensor.view(3, 224*224), mean.reshape(3,-1))"
   ]
  },
  {
   "cell_type": "code",
   "execution_count": null,
   "metadata": {},
   "outputs": [],
   "source": [
    "mean_t = torch.Tensor()\n",
    "mean_t.new_full(tensor.shape, 1)"
   ]
  },
  {
   "cell_type": "code",
   "execution_count": null,
   "metadata": {},
   "outputs": [],
   "source": []
  },
  {
   "cell_type": "code",
   "execution_count": null,
   "metadata": {},
   "outputs": [],
   "source": [
    "tensor.shape[0]"
   ]
  },
  {
   "cell_type": "code",
   "execution_count": null,
   "metadata": {},
   "outputs": [],
   "source": [
    "torch.sub(tensor, torch.mean(tensor))"
   ]
  },
  {
   "cell_type": "code",
   "execution_count": null,
   "metadata": {},
   "outputs": [],
   "source": []
  },
  {
   "cell_type": "code",
   "execution_count": null,
   "metadata": {},
   "outputs": [],
   "source": [
    "torch.var(torch.sub(tensor, torch.mean(tensor)), unbiased=False)"
   ]
  },
  {
   "cell_type": "code",
   "execution_count": null,
   "metadata": {},
   "outputs": [],
   "source": [
    "tensor.squeeze().size()"
   ]
  },
  {
   "cell_type": "code",
   "execution_count": null,
   "metadata": {},
   "outputs": [],
   "source": [
    "tensor.view(224,224)"
   ]
  },
  {
   "cell_type": "code",
   "execution_count": null,
   "metadata": {},
   "outputs": [],
   "source": [
    "tensor[0]"
   ]
  },
  {
   "cell_type": "code",
   "execution_count": null,
   "metadata": {},
   "outputs": [],
   "source": [
    "tensor[1]"
   ]
  },
  {
   "cell_type": "code",
   "execution_count": null,
   "metadata": {},
   "outputs": [],
   "source": [
    "tensor[2]"
   ]
  },
  {
   "cell_type": "code",
   "execution_count": null,
   "metadata": {},
   "outputs": [],
   "source": []
  }
 ],
 "metadata": {
  "kernelspec": {
   "display_name": "Python 2",
   "language": "python",
   "name": "python2"
  },
  "language_info": {
   "codemirror_mode": {
    "name": "ipython",
    "version": 2
   },
   "file_extension": ".py",
   "mimetype": "text/x-python",
   "name": "python",
   "nbconvert_exporter": "python",
   "pygments_lexer": "ipython2",
   "version": "2.7.13"
  }
 },
 "nbformat": 4,
 "nbformat_minor": 2
}
